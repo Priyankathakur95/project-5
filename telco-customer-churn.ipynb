{
 "cells": [
  {
   "cell_type": "code",
   "execution_count": 1,
   "id": "3379c942",
   "metadata": {
    "execution": {
     "iopub.execute_input": "2022-02-06T06:50:10.583960Z",
     "iopub.status.busy": "2022-02-06T06:50:10.583271Z",
     "iopub.status.idle": "2022-02-06T06:50:12.025880Z",
     "shell.execute_reply": "2022-02-06T06:50:12.025274Z",
     "shell.execute_reply.started": "2022-02-06T06:46:43.631071Z"
    },
    "papermill": {
     "duration": 1.46637,
     "end_time": "2022-02-06T06:50:12.026028",
     "exception": false,
     "start_time": "2022-02-06T06:50:10.559658",
     "status": "completed"
    },
    "tags": []
   },
   "outputs": [],
   "source": [
    "import pandas as pd\n",
    "import matplotlib.pyplot as plt\n",
    "import seaborn as sns\n",
    "\n",
    "from sklearn.preprocessing import LabelEncoder, StandardScaler, MinMaxScaler\n",
    "from sklearn.model_selection import train_test_split\n",
    "\n",
    "from sklearn.linear_model import LogisticRegression\n",
    "from sklearn.tree import DecisionTreeClassifier\n",
    "from sklearn.ensemble import RandomForestClassifier, GradientBoostingClassifier\n",
    "from sklearn.svm import SVC\n",
    "\n",
    "from sklearn.metrics import classification_report, confusion_matrix"
   ]
  },
  {
   "cell_type": "code",
   "execution_count": 2,
   "id": "0c13beed",
   "metadata": {
    "execution": {
     "iopub.execute_input": "2022-02-06T06:50:12.070715Z",
     "iopub.status.busy": "2022-02-06T06:50:12.070077Z",
     "iopub.status.idle": "2022-02-06T06:50:12.185548Z",
     "shell.execute_reply": "2022-02-06T06:50:12.186037Z",
     "shell.execute_reply.started": "2022-02-06T06:46:43.644508Z"
    },
    "papermill": {
     "duration": 0.139116,
     "end_time": "2022-02-06T06:50:12.186201",
     "exception": false,
     "start_time": "2022-02-06T06:50:12.047085",
     "status": "completed"
    },
    "tags": []
   },
   "outputs": [
    {
     "data": {
      "text/html": [
       "<div>\n",
       "<style scoped>\n",
       "    .dataframe tbody tr th:only-of-type {\n",
       "        vertical-align: middle;\n",
       "    }\n",
       "\n",
       "    .dataframe tbody tr th {\n",
       "        vertical-align: top;\n",
       "    }\n",
       "\n",
       "    .dataframe thead th {\n",
       "        text-align: right;\n",
       "    }\n",
       "</style>\n",
       "<table border=\"1\" class=\"dataframe\">\n",
       "  <thead>\n",
       "    <tr style=\"text-align: right;\">\n",
       "      <th></th>\n",
       "      <th>customerID</th>\n",
       "      <th>gender</th>\n",
       "      <th>SeniorCitizen</th>\n",
       "      <th>Partner</th>\n",
       "      <th>Dependents</th>\n",
       "      <th>tenure</th>\n",
       "      <th>PhoneService</th>\n",
       "      <th>MultipleLines</th>\n",
       "      <th>InternetService</th>\n",
       "      <th>OnlineSecurity</th>\n",
       "      <th>...</th>\n",
       "      <th>DeviceProtection</th>\n",
       "      <th>TechSupport</th>\n",
       "      <th>StreamingTV</th>\n",
       "      <th>StreamingMovies</th>\n",
       "      <th>Contract</th>\n",
       "      <th>PaperlessBilling</th>\n",
       "      <th>PaymentMethod</th>\n",
       "      <th>MonthlyCharges</th>\n",
       "      <th>TotalCharges</th>\n",
       "      <th>Churn</th>\n",
       "    </tr>\n",
       "  </thead>\n",
       "  <tbody>\n",
       "    <tr>\n",
       "      <th>0</th>\n",
       "      <td>7590-VHVEG</td>\n",
       "      <td>Female</td>\n",
       "      <td>0</td>\n",
       "      <td>Yes</td>\n",
       "      <td>No</td>\n",
       "      <td>1</td>\n",
       "      <td>No</td>\n",
       "      <td>No phone service</td>\n",
       "      <td>DSL</td>\n",
       "      <td>No</td>\n",
       "      <td>...</td>\n",
       "      <td>No</td>\n",
       "      <td>No</td>\n",
       "      <td>No</td>\n",
       "      <td>No</td>\n",
       "      <td>Month-to-month</td>\n",
       "      <td>Yes</td>\n",
       "      <td>Electronic check</td>\n",
       "      <td>29.85</td>\n",
       "      <td>29.85</td>\n",
       "      <td>No</td>\n",
       "    </tr>\n",
       "    <tr>\n",
       "      <th>1</th>\n",
       "      <td>5575-GNVDE</td>\n",
       "      <td>Male</td>\n",
       "      <td>0</td>\n",
       "      <td>No</td>\n",
       "      <td>No</td>\n",
       "      <td>34</td>\n",
       "      <td>Yes</td>\n",
       "      <td>No</td>\n",
       "      <td>DSL</td>\n",
       "      <td>Yes</td>\n",
       "      <td>...</td>\n",
       "      <td>Yes</td>\n",
       "      <td>No</td>\n",
       "      <td>No</td>\n",
       "      <td>No</td>\n",
       "      <td>One year</td>\n",
       "      <td>No</td>\n",
       "      <td>Mailed check</td>\n",
       "      <td>56.95</td>\n",
       "      <td>1889.5</td>\n",
       "      <td>No</td>\n",
       "    </tr>\n",
       "    <tr>\n",
       "      <th>2</th>\n",
       "      <td>3668-QPYBK</td>\n",
       "      <td>Male</td>\n",
       "      <td>0</td>\n",
       "      <td>No</td>\n",
       "      <td>No</td>\n",
       "      <td>2</td>\n",
       "      <td>Yes</td>\n",
       "      <td>No</td>\n",
       "      <td>DSL</td>\n",
       "      <td>Yes</td>\n",
       "      <td>...</td>\n",
       "      <td>No</td>\n",
       "      <td>No</td>\n",
       "      <td>No</td>\n",
       "      <td>No</td>\n",
       "      <td>Month-to-month</td>\n",
       "      <td>Yes</td>\n",
       "      <td>Mailed check</td>\n",
       "      <td>53.85</td>\n",
       "      <td>108.15</td>\n",
       "      <td>Yes</td>\n",
       "    </tr>\n",
       "    <tr>\n",
       "      <th>3</th>\n",
       "      <td>7795-CFOCW</td>\n",
       "      <td>Male</td>\n",
       "      <td>0</td>\n",
       "      <td>No</td>\n",
       "      <td>No</td>\n",
       "      <td>45</td>\n",
       "      <td>No</td>\n",
       "      <td>No phone service</td>\n",
       "      <td>DSL</td>\n",
       "      <td>Yes</td>\n",
       "      <td>...</td>\n",
       "      <td>Yes</td>\n",
       "      <td>Yes</td>\n",
       "      <td>No</td>\n",
       "      <td>No</td>\n",
       "      <td>One year</td>\n",
       "      <td>No</td>\n",
       "      <td>Bank transfer (automatic)</td>\n",
       "      <td>42.30</td>\n",
       "      <td>1840.75</td>\n",
       "      <td>No</td>\n",
       "    </tr>\n",
       "    <tr>\n",
       "      <th>4</th>\n",
       "      <td>9237-HQITU</td>\n",
       "      <td>Female</td>\n",
       "      <td>0</td>\n",
       "      <td>No</td>\n",
       "      <td>No</td>\n",
       "      <td>2</td>\n",
       "      <td>Yes</td>\n",
       "      <td>No</td>\n",
       "      <td>Fiber optic</td>\n",
       "      <td>No</td>\n",
       "      <td>...</td>\n",
       "      <td>No</td>\n",
       "      <td>No</td>\n",
       "      <td>No</td>\n",
       "      <td>No</td>\n",
       "      <td>Month-to-month</td>\n",
       "      <td>Yes</td>\n",
       "      <td>Electronic check</td>\n",
       "      <td>70.70</td>\n",
       "      <td>151.65</td>\n",
       "      <td>Yes</td>\n",
       "    </tr>\n",
       "    <tr>\n",
       "      <th>...</th>\n",
       "      <td>...</td>\n",
       "      <td>...</td>\n",
       "      <td>...</td>\n",
       "      <td>...</td>\n",
       "      <td>...</td>\n",
       "      <td>...</td>\n",
       "      <td>...</td>\n",
       "      <td>...</td>\n",
       "      <td>...</td>\n",
       "      <td>...</td>\n",
       "      <td>...</td>\n",
       "      <td>...</td>\n",
       "      <td>...</td>\n",
       "      <td>...</td>\n",
       "      <td>...</td>\n",
       "      <td>...</td>\n",
       "      <td>...</td>\n",
       "      <td>...</td>\n",
       "      <td>...</td>\n",
       "      <td>...</td>\n",
       "      <td>...</td>\n",
       "    </tr>\n",
       "    <tr>\n",
       "      <th>7038</th>\n",
       "      <td>6840-RESVB</td>\n",
       "      <td>Male</td>\n",
       "      <td>0</td>\n",
       "      <td>Yes</td>\n",
       "      <td>Yes</td>\n",
       "      <td>24</td>\n",
       "      <td>Yes</td>\n",
       "      <td>Yes</td>\n",
       "      <td>DSL</td>\n",
       "      <td>Yes</td>\n",
       "      <td>...</td>\n",
       "      <td>Yes</td>\n",
       "      <td>Yes</td>\n",
       "      <td>Yes</td>\n",
       "      <td>Yes</td>\n",
       "      <td>One year</td>\n",
       "      <td>Yes</td>\n",
       "      <td>Mailed check</td>\n",
       "      <td>84.80</td>\n",
       "      <td>1990.5</td>\n",
       "      <td>No</td>\n",
       "    </tr>\n",
       "    <tr>\n",
       "      <th>7039</th>\n",
       "      <td>2234-XADUH</td>\n",
       "      <td>Female</td>\n",
       "      <td>0</td>\n",
       "      <td>Yes</td>\n",
       "      <td>Yes</td>\n",
       "      <td>72</td>\n",
       "      <td>Yes</td>\n",
       "      <td>Yes</td>\n",
       "      <td>Fiber optic</td>\n",
       "      <td>No</td>\n",
       "      <td>...</td>\n",
       "      <td>Yes</td>\n",
       "      <td>No</td>\n",
       "      <td>Yes</td>\n",
       "      <td>Yes</td>\n",
       "      <td>One year</td>\n",
       "      <td>Yes</td>\n",
       "      <td>Credit card (automatic)</td>\n",
       "      <td>103.20</td>\n",
       "      <td>7362.9</td>\n",
       "      <td>No</td>\n",
       "    </tr>\n",
       "    <tr>\n",
       "      <th>7040</th>\n",
       "      <td>4801-JZAZL</td>\n",
       "      <td>Female</td>\n",
       "      <td>0</td>\n",
       "      <td>Yes</td>\n",
       "      <td>Yes</td>\n",
       "      <td>11</td>\n",
       "      <td>No</td>\n",
       "      <td>No phone service</td>\n",
       "      <td>DSL</td>\n",
       "      <td>Yes</td>\n",
       "      <td>...</td>\n",
       "      <td>No</td>\n",
       "      <td>No</td>\n",
       "      <td>No</td>\n",
       "      <td>No</td>\n",
       "      <td>Month-to-month</td>\n",
       "      <td>Yes</td>\n",
       "      <td>Electronic check</td>\n",
       "      <td>29.60</td>\n",
       "      <td>346.45</td>\n",
       "      <td>No</td>\n",
       "    </tr>\n",
       "    <tr>\n",
       "      <th>7041</th>\n",
       "      <td>8361-LTMKD</td>\n",
       "      <td>Male</td>\n",
       "      <td>1</td>\n",
       "      <td>Yes</td>\n",
       "      <td>No</td>\n",
       "      <td>4</td>\n",
       "      <td>Yes</td>\n",
       "      <td>Yes</td>\n",
       "      <td>Fiber optic</td>\n",
       "      <td>No</td>\n",
       "      <td>...</td>\n",
       "      <td>No</td>\n",
       "      <td>No</td>\n",
       "      <td>No</td>\n",
       "      <td>No</td>\n",
       "      <td>Month-to-month</td>\n",
       "      <td>Yes</td>\n",
       "      <td>Mailed check</td>\n",
       "      <td>74.40</td>\n",
       "      <td>306.6</td>\n",
       "      <td>Yes</td>\n",
       "    </tr>\n",
       "    <tr>\n",
       "      <th>7042</th>\n",
       "      <td>3186-AJIEK</td>\n",
       "      <td>Male</td>\n",
       "      <td>0</td>\n",
       "      <td>No</td>\n",
       "      <td>No</td>\n",
       "      <td>66</td>\n",
       "      <td>Yes</td>\n",
       "      <td>No</td>\n",
       "      <td>Fiber optic</td>\n",
       "      <td>Yes</td>\n",
       "      <td>...</td>\n",
       "      <td>Yes</td>\n",
       "      <td>Yes</td>\n",
       "      <td>Yes</td>\n",
       "      <td>Yes</td>\n",
       "      <td>Two year</td>\n",
       "      <td>Yes</td>\n",
       "      <td>Bank transfer (automatic)</td>\n",
       "      <td>105.65</td>\n",
       "      <td>6844.5</td>\n",
       "      <td>No</td>\n",
       "    </tr>\n",
       "  </tbody>\n",
       "</table>\n",
       "<p>7043 rows × 21 columns</p>\n",
       "</div>"
      ],
      "text/plain": [
       "      customerID  gender  SeniorCitizen Partner Dependents  tenure  \\\n",
       "0     7590-VHVEG  Female              0     Yes         No       1   \n",
       "1     5575-GNVDE    Male              0      No         No      34   \n",
       "2     3668-QPYBK    Male              0      No         No       2   \n",
       "3     7795-CFOCW    Male              0      No         No      45   \n",
       "4     9237-HQITU  Female              0      No         No       2   \n",
       "...          ...     ...            ...     ...        ...     ...   \n",
       "7038  6840-RESVB    Male              0     Yes        Yes      24   \n",
       "7039  2234-XADUH  Female              0     Yes        Yes      72   \n",
       "7040  4801-JZAZL  Female              0     Yes        Yes      11   \n",
       "7041  8361-LTMKD    Male              1     Yes         No       4   \n",
       "7042  3186-AJIEK    Male              0      No         No      66   \n",
       "\n",
       "     PhoneService     MultipleLines InternetService OnlineSecurity  ...  \\\n",
       "0              No  No phone service             DSL             No  ...   \n",
       "1             Yes                No             DSL            Yes  ...   \n",
       "2             Yes                No             DSL            Yes  ...   \n",
       "3              No  No phone service             DSL            Yes  ...   \n",
       "4             Yes                No     Fiber optic             No  ...   \n",
       "...           ...               ...             ...            ...  ...   \n",
       "7038          Yes               Yes             DSL            Yes  ...   \n",
       "7039          Yes               Yes     Fiber optic             No  ...   \n",
       "7040           No  No phone service             DSL            Yes  ...   \n",
       "7041          Yes               Yes     Fiber optic             No  ...   \n",
       "7042          Yes                No     Fiber optic            Yes  ...   \n",
       "\n",
       "     DeviceProtection TechSupport StreamingTV StreamingMovies        Contract  \\\n",
       "0                  No          No          No              No  Month-to-month   \n",
       "1                 Yes          No          No              No        One year   \n",
       "2                  No          No          No              No  Month-to-month   \n",
       "3                 Yes         Yes          No              No        One year   \n",
       "4                  No          No          No              No  Month-to-month   \n",
       "...               ...         ...         ...             ...             ...   \n",
       "7038              Yes         Yes         Yes             Yes        One year   \n",
       "7039              Yes          No         Yes             Yes        One year   \n",
       "7040               No          No          No              No  Month-to-month   \n",
       "7041               No          No          No              No  Month-to-month   \n",
       "7042              Yes         Yes         Yes             Yes        Two year   \n",
       "\n",
       "     PaperlessBilling              PaymentMethod MonthlyCharges  TotalCharges  \\\n",
       "0                 Yes           Electronic check          29.85         29.85   \n",
       "1                  No               Mailed check          56.95        1889.5   \n",
       "2                 Yes               Mailed check          53.85        108.15   \n",
       "3                  No  Bank transfer (automatic)          42.30       1840.75   \n",
       "4                 Yes           Electronic check          70.70        151.65   \n",
       "...               ...                        ...            ...           ...   \n",
       "7038              Yes               Mailed check          84.80        1990.5   \n",
       "7039              Yes    Credit card (automatic)         103.20        7362.9   \n",
       "7040              Yes           Electronic check          29.60        346.45   \n",
       "7041              Yes               Mailed check          74.40         306.6   \n",
       "7042              Yes  Bank transfer (automatic)         105.65        6844.5   \n",
       "\n",
       "     Churn  \n",
       "0       No  \n",
       "1       No  \n",
       "2      Yes  \n",
       "3       No  \n",
       "4      Yes  \n",
       "...    ...  \n",
       "7038    No  \n",
       "7039    No  \n",
       "7040    No  \n",
       "7041   Yes  \n",
       "7042    No  \n",
       "\n",
       "[7043 rows x 21 columns]"
      ]
     },
     "execution_count": 2,
     "metadata": {},
     "output_type": "execute_result"
    }
   ],
   "source": [
    "df = pd.read_csv(r'C:\\Users\\admin\\Desktop\\tele_churn\\Telecom_customer_churn.csv')\n",
    "df"
   ]
  },
  {
   "cell_type": "code",
   "execution_count": 3,
   "id": "38d14c3b",
   "metadata": {
    "execution": {
     "iopub.execute_input": "2022-02-06T06:50:12.248887Z",
     "iopub.status.busy": "2022-02-06T06:50:12.247827Z",
     "iopub.status.idle": "2022-02-06T06:50:12.256323Z",
     "shell.execute_reply": "2022-02-06T06:50:12.255815Z",
     "shell.execute_reply.started": "2022-02-06T06:46:43.730682Z"
    },
    "papermill": {
     "duration": 0.048425,
     "end_time": "2022-02-06T06:50:12.256479",
     "exception": false,
     "start_time": "2022-02-06T06:50:12.208054",
     "status": "completed"
    },
    "tags": []
   },
   "outputs": [
    {
     "data": {
      "text/plain": [
       "customerID          0\n",
       "gender              0\n",
       "SeniorCitizen       0\n",
       "Partner             0\n",
       "Dependents          0\n",
       "tenure              0\n",
       "PhoneService        0\n",
       "MultipleLines       0\n",
       "InternetService     0\n",
       "OnlineSecurity      0\n",
       "OnlineBackup        0\n",
       "DeviceProtection    0\n",
       "TechSupport         0\n",
       "StreamingTV         0\n",
       "StreamingMovies     0\n",
       "Contract            0\n",
       "PaperlessBilling    0\n",
       "PaymentMethod       0\n",
       "MonthlyCharges      0\n",
       "TotalCharges        0\n",
       "Churn               0\n",
       "dtype: int64"
      ]
     },
     "execution_count": 3,
     "metadata": {},
     "output_type": "execute_result"
    }
   ],
   "source": [
    "df.isna().sum()"
   ]
  },
  {
   "cell_type": "code",
   "execution_count": 4,
   "id": "3990fb07",
   "metadata": {
    "execution": {
     "iopub.execute_input": "2022-02-06T06:50:12.653202Z",
     "iopub.status.busy": "2022-02-06T06:50:12.642686Z",
     "iopub.status.idle": "2022-02-06T06:50:12.899357Z",
     "shell.execute_reply": "2022-02-06T06:50:12.899915Z",
     "shell.execute_reply.started": "2022-02-06T06:46:43.972569Z"
    },
    "papermill": {
     "duration": 0.299977,
     "end_time": "2022-02-06T06:50:12.900093",
     "exception": false,
     "start_time": "2022-02-06T06:50:12.600116",
     "status": "completed"
    },
    "tags": []
   },
   "outputs": [
    {
     "name": "stderr",
     "output_type": "stream",
     "text": [
      "C:\\ProgramData\\Anaconda3\\lib\\site-packages\\seaborn\\_decorators.py:36: FutureWarning: Pass the following variable as a keyword arg: x. From version 0.12, the only valid positional argument will be `data`, and passing other arguments without an explicit keyword will result in an error or misinterpretation.\n",
      "  warnings.warn(\n"
     ]
    },
    {
     "data": {
      "text/plain": [
       "Text(0.5, 1.0, 'Customer Churn')"
      ]
     },
     "execution_count": 4,
     "metadata": {},
     "output_type": "execute_result"
    },
    {
     "data": {
      "image/png": "[encoded data removed]",
      "text/plain": [
       "<Figure size 864x576 with 2 Axes>"
      ]
     },
     "metadata": {
      "needs_background": "light"
     },
     "output_type": "display_data"
    }
   ],
   "source": [
    "#Figuring\n",
    "f = plt.figure(figsize=(12 ,8))\n",
    "ax = f.add_subplot(121)\n",
    "labels = ['No', 'Yes']\n",
    "churn = df.Churn.value_counts()\n",
    "ax.pie(churn, labels=labels, autopct='%.0f%%')\n",
    "ax.set_title('Customer Churn')\n",
    "\n",
    "ax = f.add_subplot(122)\n",
    "sns.countplot(df.Churn)\n",
    "ax.set_title('Customer Churn')"
   ]
  },
  {
   "cell_type": "code",
   "execution_count": 5,
   "id": "a58f7776",
   "metadata": {
    "execution": {
     "iopub.execute_input": "2022-02-06T06:50:12.953229Z",
     "iopub.status.busy": "2022-02-06T06:50:12.952567Z",
     "iopub.status.idle": "2022-02-06T06:50:13.200624Z",
     "shell.execute_reply": "2022-02-06T06:50:13.200046Z",
     "shell.execute_reply.started": "2022-02-06T06:46:44.267205Z"
    },
    "papermill": {
     "duration": 0.275824,
     "end_time": "2022-02-06T06:50:13.200779",
     "exception": false,
     "start_time": "2022-02-06T06:50:12.924955",
     "status": "completed"
    },
    "tags": []
   },
   "outputs": [
    {
     "data": {
      "image/png": "[encoded data removed]",
      "text/plain": [
       "<Figure size 864x576 with 2 Axes>"
      ]
     },
     "metadata": {
      "needs_background": "light"
     },
     "output_type": "display_data"
    }
   ],
   "source": [
    "plt.figure(figsize=(12, 8))\n",
    "sns.heatmap(data=df.corr(), annot=True)\n",
    "plt.show()"
   ]
  },
  {
   "cell_type": "code",
   "execution_count": 6,
   "id": "425695fc",
   "metadata": {
    "execution": {
     "iopub.execute_input": "2022-02-06T06:50:13.256071Z",
     "iopub.status.busy": "2022-02-06T06:50:13.255091Z",
     "iopub.status.idle": "2022-02-06T06:50:14.980494Z",
     "shell.execute_reply": "2022-02-06T06:50:14.979482Z",
     "shell.execute_reply.started": "2022-02-06T06:46:44.540288Z"
    },
    "papermill": {
     "duration": 1.754113,
     "end_time": "2022-02-06T06:50:14.980676",
     "exception": false,
     "start_time": "2022-02-06T06:50:13.226563",
     "status": "completed"
    },
    "tags": []
   },
   "outputs": [
    {
     "data": {
      "image/png": "[encoded data removed]",
      "text/plain": [
       "<Figure size 1008x864 with 9 Axes>"
      ]
     },
     "metadata": {},
     "output_type": "display_data"
    }
   ],
   "source": [
    "sns.set(style='darkgrid')\n",
    "fig, ax = plt.subplots(3, 3, figsize=(14, 12))\n",
    "sns.countplot(data=df, x='gender', hue='Churn', ax=ax[0][0])\n",
    "sns.countplot(data=df, x='Partner', hue='Churn', ax=ax[0][1])\n",
    "sns.countplot(data=df, x='SeniorCitizen', hue='Churn', ax=ax[0][2])\n",
    "sns.countplot(data=df, x='PhoneService', hue='Churn', ax=ax[1][0])\n",
    "sns.countplot(data=df, x='StreamingTV', hue='Churn', ax=ax[1][1])\n",
    "sns.countplot(data=df, x='InternetService', hue='Churn', ax=ax[1][2])\n",
    "sns.countplot(data=df, x='PaperlessBilling', hue='Churn', ax=ax[2][1])\n",
    "plt.tight_layout()\n",
    "plt.show()"
   ]
  },
  {
   "cell_type": "code",
   "execution_count": 7,
   "id": "1f67eafa",
   "metadata": {
    "execution": {
     "iopub.execute_input": "2022-02-06T06:50:15.102236Z",
     "iopub.status.busy": "2022-02-06T06:50:15.101275Z",
     "iopub.status.idle": "2022-02-06T06:50:15.104257Z",
     "shell.execute_reply": "2022-02-06T06:50:15.103746Z",
     "shell.execute_reply.started": "2022-02-06T06:46:46.158173Z"
    },
    "papermill": {
     "duration": 0.037458,
     "end_time": "2022-02-06T06:50:15.104404",
     "exception": false,
     "start_time": "2022-02-06T06:50:15.066946",
     "status": "completed"
    },
    "tags": []
   },
   "outputs": [],
   "source": [
    "#Preprocessing\n",
    "df = df.drop(['customerID'], axis=1)\n",
    "objList = df.select_dtypes(include = \"object\").columns\n",
    "le = LabelEncoder()\n",
    "\n",
    "df[objList] = df[objList].apply(le.fit_transform)\n"
   ]
  },
  {
   "cell_type": "code",
   "execution_count": 8,
   "id": "7110b94c",
   "metadata": {
    "execution": {
     "iopub.execute_input": "2022-02-06T06:50:15.345042Z",
     "iopub.status.busy": "2022-02-06T06:50:15.344266Z",
     "iopub.status.idle": "2022-02-06T06:50:15.350465Z",
     "shell.execute_reply": "2022-02-06T06:50:15.351080Z",
     "shell.execute_reply.started": "2022-02-06T06:47:11.825243Z"
    },
    "papermill": {
     "duration": 0.039419,
     "end_time": "2022-02-06T06:50:15.351262",
     "exception": false,
     "start_time": "2022-02-06T06:50:15.311843",
     "status": "completed"
    },
    "tags": []
   },
   "outputs": [],
   "source": [
    "scale = MinMaxScaler()\n",
    "df = pd.DataFrame(scale.fit_transform(df.values), columns=df.columns, index=df.index)"
   ]
  },
  {
   "cell_type": "code",
   "execution_count": 9,
   "id": "111ba833",
   "metadata": {
    "execution": {
     "iopub.execute_input": "2022-02-06T06:50:15.575463Z",
     "iopub.status.busy": "2022-02-06T06:50:15.574455Z",
     "iopub.status.idle": "2022-02-06T06:50:15.586492Z",
     "shell.execute_reply": "2022-02-06T06:50:15.587036Z",
     "shell.execute_reply.started": "2022-02-06T06:48:04.377640Z"
    },
    "papermill": {
     "duration": 0.047093,
     "end_time": "2022-02-06T06:50:15.587211",
     "exception": false,
     "start_time": "2022-02-06T06:50:15.540118",
     "status": "completed"
    },
    "tags": []
   },
   "outputs": [],
   "source": [
    "X = df.drop('Churn', axis = 1)\n",
    "y = df['Churn']\n",
    "\n",
    "X_train, X_test, y_train, y_test = train_test_split(X, y, test_size=0.2, stratify=y, random_state=42)"
   ]
  },
  {
   "cell_type": "code",
   "execution_count": 10,
   "id": "72b316a7",
   "metadata": {},
   "outputs": [],
   "source": [
    "#Making list of classifiers\n",
    "classifiers=[]\n",
    "scores=[]"
   ]
  },
  {
   "cell_type": "code",
   "execution_count": 11,
   "id": "42767c59",
   "metadata": {
    "execution": {
     "iopub.execute_input": "2022-02-06T06:50:15.649339Z",
     "iopub.status.busy": "2022-02-06T06:50:15.648739Z",
     "iopub.status.idle": "2022-02-06T06:50:15.707164Z",
     "shell.execute_reply": "2022-02-06T06:50:15.708200Z",
     "shell.execute_reply.started": "2022-02-06T06:48:15.447475Z"
    },
    "papermill": {
     "duration": 0.092156,
     "end_time": "2022-02-06T06:50:15.708551",
     "exception": false,
     "start_time": "2022-02-06T06:50:15.616395",
     "status": "completed"
    },
    "tags": []
   },
   "outputs": [
    {
     "name": "stdout",
     "output_type": "stream",
     "text": [
      "0.8065317713880015 0.7955997161107168\n"
     ]
    }
   ],
   "source": [
    "# logistic regression\n",
    "log_model = LogisticRegression()\n",
    "log_model.fit(X_train, y_train)\n",
    "print(log_model.score(X_train, y_train), log_model.score(X_test, y_test))\n",
    "classifiers.append('Logistic Reg')\n",
    "scores.append(log_model.score(X_test,y_test))"
   ]
  },
  {
   "cell_type": "code",
   "execution_count": 12,
   "id": "0c14a66a",
   "metadata": {
    "execution": {
     "iopub.execute_input": "2022-02-06T06:50:15.828676Z",
     "iopub.status.busy": "2022-02-06T06:50:15.827970Z",
     "iopub.status.idle": "2022-02-06T06:50:16.768706Z",
     "shell.execute_reply": "2022-02-06T06:50:16.768143Z",
     "shell.execute_reply.started": "2022-02-06T06:48:20.261216Z"
    },
    "papermill": {
     "duration": 1.003468,
     "end_time": "2022-02-06T06:50:16.768854",
     "exception": false,
     "start_time": "2022-02-06T06:50:15.765386",
     "status": "completed"
    },
    "tags": []
   },
   "outputs": [
    {
     "name": "stdout",
     "output_type": "stream",
     "text": [
      "0.9350372736954207 0.7452093683463449\n"
     ]
    }
   ],
   "source": [
    "# SVM\n",
    "svm_model = SVC(C=100)\n",
    "svm_model.fit(X_train, y_train)\n",
    "print(svm_model.score(X_train, y_train), svm_model.score(X_test, y_test))\n",
    "classifiers.append('SVM')\n",
    "scores.append(svm_model.score(X_test,y_test))"
   ]
  },
  {
   "cell_type": "code",
   "execution_count": 13,
   "id": "525f6248",
   "metadata": {
    "execution": {
     "iopub.execute_input": "2022-02-06T06:50:16.836587Z",
     "iopub.status.busy": "2022-02-06T06:50:16.835920Z",
     "iopub.status.idle": "2022-02-06T06:50:16.874729Z",
     "shell.execute_reply": "2022-02-06T06:50:16.875302Z",
     "shell.execute_reply.started": "2022-02-06T06:48:30.464959Z"
    },
    "papermill": {
     "duration": 0.076187,
     "end_time": "2022-02-06T06:50:16.875489",
     "exception": false,
     "start_time": "2022-02-06T06:50:16.799302",
     "status": "completed"
    },
    "tags": []
   },
   "outputs": [
    {
     "name": "stdout",
     "output_type": "stream",
     "text": [
      "0.9980475683351083 0.7366926898509581\n"
     ]
    }
   ],
   "source": [
    "# Decision Tree\n",
    "tree_model = DecisionTreeClassifier()\n",
    "tree_model.fit(X_train, y_train)\n",
    "print(tree_model.score(X_train, y_train), tree_model.score(X_test, y_test))\n",
    "classifiers.append('Decision Tree')\n",
    "scores.append(tree_model.score(X_test,y_test))"
   ]
  },
  {
   "cell_type": "code",
   "execution_count": 14,
   "id": "db684a86",
   "metadata": {
    "execution": {
     "iopub.execute_input": "2022-02-06T06:50:16.944642Z",
     "iopub.status.busy": "2022-02-06T06:50:16.943598Z",
     "iopub.status.idle": "2022-02-06T06:50:17.813366Z",
     "shell.execute_reply": "2022-02-06T06:50:17.813901Z",
     "shell.execute_reply.started": "2022-02-06T06:48:36.175238Z"
    },
    "papermill": {
     "duration": 0.908205,
     "end_time": "2022-02-06T06:50:17.814072",
     "exception": false,
     "start_time": "2022-02-06T06:50:16.905867",
     "status": "completed"
    },
    "tags": []
   },
   "outputs": [
    {
     "name": "stdout",
     "output_type": "stream",
     "text": [
      "0.9980475683351083 0.7835344215755855\n"
     ]
    }
   ],
   "source": [
    "# Random Forest\n",
    "random_model = RandomForestClassifier()\n",
    "random_model.fit(X_train, y_train)\n",
    "print(random_model.score(X_train, y_train), random_model.score(X_test, y_test))\n",
    "classifiers.append('Random Forest')\n",
    "scores.append(random_model.score(X_test,y_test))"
   ]
  },
  {
   "cell_type": "code",
   "execution_count": 16,
   "id": "deeca83b",
   "metadata": {
    "execution": {
     "iopub.execute_input": "2022-02-06T06:50:17.885481Z",
     "iopub.status.busy": "2022-02-06T06:50:17.878153Z",
     "iopub.status.idle": "2022-02-06T06:50:18.121096Z",
     "shell.execute_reply": "2022-02-06T06:50:18.121559Z",
     "shell.execute_reply.started": "2022-02-06T06:48:42.165696Z"
    },
    "papermill": {
     "duration": 0.277085,
     "end_time": "2022-02-06T06:50:18.121760",
     "exception": false,
     "start_time": "2022-02-06T06:50:17.844675",
     "status": "completed"
    },
    "tags": []
   },
   "outputs": [
    {
     "data": {
      "text/html": [
       "<div>\n",
       "<style scoped>\n",
       "    .dataframe tbody tr th:only-of-type {\n",
       "        vertical-align: middle;\n",
       "    }\n",
       "\n",
       "    .dataframe tbody tr th {\n",
       "        vertical-align: top;\n",
       "    }\n",
       "\n",
       "    .dataframe thead th {\n",
       "        text-align: right;\n",
       "    }\n",
       "</style>\n",
       "<table border=\"1\" class=\"dataframe\">\n",
       "  <thead>\n",
       "    <tr style=\"text-align: right;\">\n",
       "      <th></th>\n",
       "      <th>train</th>\n",
       "      <th>test</th>\n",
       "    </tr>\n",
       "  </thead>\n",
       "  <tbody>\n",
       "    <tr>\n",
       "      <th>Logistic Regression</th>\n",
       "      <td>80.653177</td>\n",
       "      <td>79.559972</td>\n",
       "    </tr>\n",
       "    <tr>\n",
       "      <th>Gradient Boosting</th>\n",
       "      <td>NaN</td>\n",
       "      <td>NaN</td>\n",
       "    </tr>\n",
       "    <tr>\n",
       "      <th>Decision Tree</th>\n",
       "      <td>99.804757</td>\n",
       "      <td>73.669269</td>\n",
       "    </tr>\n",
       "    <tr>\n",
       "      <th>Random Forest</th>\n",
       "      <td>99.804757</td>\n",
       "      <td>78.353442</td>\n",
       "    </tr>\n",
       "    <tr>\n",
       "      <th>SVM</th>\n",
       "      <td>93.503727</td>\n",
       "      <td>74.520937</td>\n",
       "    </tr>\n",
       "  </tbody>\n",
       "</table>\n",
       "</div>"
      ],
      "text/plain": [
       "                         train       test\n",
       "Logistic Regression  80.653177  79.559972\n",
       "Gradient Boosting          NaN        NaN\n",
       "Decision Tree        99.804757  73.669269\n",
       "Random Forest        99.804757  78.353442\n",
       "SVM                  93.503727  74.520937"
      ]
     },
     "execution_count": 16,
     "metadata": {},
     "output_type": "execute_result"
    }
   ],
   "source": [
    "mse = pd.DataFrame(columns=['train', 'test'], index=['Logistic Regression', 'Gradient Boosting', 'Decision Tree',  'Random Forest'])\n",
    "model_dict = {'Logistic Regression': log_model, 'SVM':svm_model, 'Decision Tree': tree_model, 'Random Forest' : random_model}\n",
    "\n",
    "for name, model in model_dict.items():\n",
    "    mse.loc[name, 'train'] = model.score(X_train, y_train)*100\n",
    "    mse.loc[name, 'test'] = model.score(X_test, y_test)*100\n",
    " \n",
    "mse"
   ]
  },
  {
   "cell_type": "code",
   "execution_count": 17,
   "id": "9d509739",
   "metadata": {
    "execution": {
     "iopub.execute_input": "2022-02-06T06:50:18.187717Z",
     "iopub.status.busy": "2022-02-06T06:50:18.186999Z",
     "iopub.status.idle": "2022-02-06T06:50:18.445663Z",
     "shell.execute_reply": "2022-02-06T06:50:18.446111Z",
     "shell.execute_reply.started": "2022-02-06T06:48:56.436644Z"
    },
    "papermill": {
     "duration": 0.293428,
     "end_time": "2022-02-06T06:50:18.446286",
     "exception": false,
     "start_time": "2022-02-06T06:50:18.152858",
     "status": "completed"
    },
    "tags": []
   },
   "outputs": [
    {
     "data": {
      "image/png": "[encoded data removed]",
      "text/plain": [
       "<Figure size 432x288 with 1 Axes>"
      ]
     },
     "metadata": {},
     "output_type": "display_data"
    }
   ],
   "source": [
    "#Plotting scores\n",
    "plt.bar(classifiers,scores)\n",
    "plt.xlabel('Classifiers')\n",
    "plt.ylabel('Scores')\n",
    "plt.show()"
   ]
  },
  {
   "cell_type": "code",
   "execution_count": null,
   "id": "6307ee5f",
   "metadata": {},
   "outputs": [],
   "source": []
  }
 ],
 "metadata": {
  "kernelspec": {
   "display_name": "Python 3",
   "language": "python",
   "name": "python3"
  },
  "language_info": {
   "codemirror_mode": {
    "name": "ipython",
    "version": 3
   },
   "file_extension": ".py",
   "mimetype": "text/x-python",
   "name": "python",
   "nbconvert_exporter": "python",
   "pygments_lexer": "ipython3",
   "version": "3.8.8"
  },
  "papermill": {
   "default_parameters": {},
   "duration": 20.269621,
   "end_time": "2022-02-06T06:50:20.858051",
   "environment_variables": {},
   "exception": null,
   "input_path": "__notebook__.ipynb",
   "output_path": "__notebook__.ipynb",
   "parameters": {},
   "start_time": "2022-02-06T06:50:00.588430",
   "version": "2.3.3"
  }
 },
 "nbformat": 4,
 "nbformat_minor": 5
}
